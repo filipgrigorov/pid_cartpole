{
 "cells": [
  {
   "cell_type": "code",
   "execution_count": 1,
   "metadata": {},
   "outputs": [],
   "source": [
    "import matplotlib.pyplot as plt\n",
    "import numpy as np\n",
    "import time\n",
    "\n",
    "from IPython import display\n",
    "\n",
    "from env import CartPole\n",
    "from pid import PID\n",
    "\n",
    "%matplotlib inline"
   ]
  },
  {
   "cell_type": "markdown",
   "metadata": {},
   "source": [
    "Control process:</br>\n",
    "#### </b>Proportional term (current error proportion)</b>\n",
    "$u(t) = K_{P}e(t) + u_{t - 1}$</br>\n",
    "#### </b>Integral term (past errors trend)</b>\n",
    "$u(t) = K_{I}\\int_0^t e(t)dt + u_{t - 1}$</br>\n",
    "#### </b>Derivative term (future errors trend)</b>\n",
    "$u(t) = K_{D}\\frac{de(t)}{dt} + u_{t - 1}$</br>\n",
    "#### </b>PID</b>\n",
    "$u(t) = K_{P}e(t) + K_{I}\\int_0^t e(t)dt + K_{D}\\frac{de(t)}{dt} + u_{t - 1}$"
   ]
  },
  {
   "cell_type": "code",
   "execution_count": 2,
   "metadata": {},
   "outputs": [
    {
     "name": "stderr",
     "output_type": "stream",
     "text": [
      "/home/filip/Workspace/repos/python/rl_course/gym/gym/logger.py:30: UserWarning: \u001b[33mWARN: You are calling 'step()' even though this environment has already returned done = True. You should always call 'reset()' once you receive 'done = True' -- any further steps are undefined behavior.\u001b[0m\n",
      "  warnings.warn(colorize('%s: %s'%('WARN', msg % args), 'yellow'))\n"
     ]
    },
    {
     "name": "stdout",
     "output_type": "stream",
     "text": [
      "End of episodes\n",
      "End of episodes\n"
     ]
    },
    {
     "name": "stderr",
     "output_type": "stream",
     "text": [
      "/home/filip/Workspace/repos/python/pid_cartpole/src/pid.py:16: RuntimeWarning: overflow encountered in double_scalars\n",
      "  (self.e_t[-1] - self.e_t[-2]) / len(self.e_t) if len(self.e_t) > 1 else 0\n"
     ]
    },
    {
     "name": "stdout",
     "output_type": "stream",
     "text": [
      "Accomplished balance\n"
     ]
    },
    {
     "data": {
      "image/png": "[encoded data removed]",
      "text/plain": [
       "<Figure size 432x288 with 1 Axes>"
      ]
     },
     "metadata": {
      "needs_background": "light"
     },
     "output_type": "display_data"
    }
   ],
   "source": [
    "pid = PID()\n",
    "env = CartPole()\n",
    "hist = env.run(pid)\n",
    "del env\n",
    "\n",
    "desired = [ hist[idx][0] for idx in range(len(hist)) ]\n",
    "actual = [ hist[idx][1] for idx in range(len(hist)) ]\n",
    "\n",
    "assert(len(desired) == len(actual))\n",
    "\n",
    "fig, ax = plt.subplots(1, 1)\n",
    "plt.grid()\n",
    "ax.set_facecolor('lightgray')\n",
    "plt.plot(desired, c='r', label='desired')\n",
    "plt.plot(actual, c='g', label='actual')\n",
    "plt.legend()\n",
    "plt.show()"
   ]
  },
  {
   "cell_type": "code",
   "execution_count": null,
   "metadata": {},
   "outputs": [],
   "source": []
  }
 ],
 "metadata": {
  "kernelspec": {
   "display_name": "Python 3",
   "language": "python",
   "name": "python3"
  },
  "language_info": {
   "codemirror_mode": {
    "name": "ipython",
    "version": 3
   },
   "file_extension": ".py",
   "mimetype": "text/x-python",
   "name": "python",
   "nbconvert_exporter": "python",
   "pygments_lexer": "ipython3",
   "version": "3.7.9"
  }
 },
 "nbformat": 4,
 "nbformat_minor": 4
}
